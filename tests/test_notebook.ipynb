{
 "cells": [
  {
   "cell_type": "code",
   "execution_count": 1,
   "metadata": {},
   "outputs": [
    {
     "data": {
      "application/javascript": [
       "\n",
       "    require(['notebook/js/codecell'], function(cc) {\n",
       "        cc.CodeCell.options_default.highlight_modes['magic_text/x-c++src'] =\n",
       "            {reg: [/^\\s*%%pybind11/]};\n",
       "    });\n",
       "    "
      ]
     },
     "metadata": {},
     "output_type": "display_data"
    },
    {
     "data": {
      "text/html": [
       "\n",
       "    <style>\n",
       "    .cm-s-ipython span.cm-variable-3 {\n",
       "        color: #208ffb;\n",
       "        font-weight: bold;\n",
       "    }\n",
       "    </style>\n",
       "    "
      ]
     },
     "metadata": {},
     "output_type": "display_data"
    }
   ],
   "source": [
    "%load_ext ipybind"
   ]
  },
  {
   "cell_type": "code",
   "execution_count": 10,
   "metadata": {},
   "outputs": [
    {
     "name": "stdout",
     "output_type": "stream",
     "text": [
      "C++ stdout/stderr capturing has been turned ON\n",
      "C++ stdout/stderr capturing has been turned OFF\n",
      "C++ stdout/stderr capturing has been turned ON\n",
      "C++ stdout/stderr capturing has been turned OFF\n",
      "C++ stdout/stderr capturing has been turned ON\n",
      "C++ stdout/stderr capturing has been turned OFF\n"
     ]
    }
   ],
   "source": [
    "%pybind11_capture\n",
    "%pybind11_capture\n",
    "%pybind11_capture on\n",
    "%pybind11_capture off\n",
    "%pybind11_capture 1\n",
    "%pybind11_capture 0"
   ]
  }
 ],
 "metadata": {
  "kernelspec": {
   "display_name": "Python 3",
   "language": "python",
   "name": "python3"
  },
  "language_info": {
   "codemirror_mode": {
    "name": "ipython",
    "version": 3
   },
   "file_extension": ".py",
   "mimetype": "text/x-python",
   "name": "python",
   "nbconvert_exporter": "python",
   "pygments_lexer": "ipython3",
   "version": "3.6.0"
  }
 },
 "nbformat": 4,
 "nbformat_minor": 2
}
